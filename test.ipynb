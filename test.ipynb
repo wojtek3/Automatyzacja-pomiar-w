{
 "cells": [
  {
   "cell_type": "code",
   "execution_count": 47,
   "metadata": {},
   "outputs": [],
   "source": [
    "import serial\n",
    "import time\n",
    "ser = serial.Serial(\"COM7\", 9600) \n",
    "readCommand = b'\\xAA\\x04\\x91\\x00\\x00\\x40\\x00\\x40\\x05\\x00\\x00\\x30\\x75\\xB8\\x0B\\x00\\x00\\x02\\x00\\x00\\x00\\x00\\x00\\x00\\x00\\x2E'\n",
    "commandPC = b'\\xAA\\x04\\x92\\x02\\x00\\x00\\x00\\x00\\x00\\x00\\x00\\x00\\x00\\x00\\x00\\x00\\x00\\x00\\x00\\x00\\x00\\x00\\x00\\x00\\x00\\x42'\n",
    "commandON = b'\\xAA\\x04\\x92\\x03\\x00\\x00\\x00\\x00\\x00\\x00\\x00\\x00\\x00\\x00\\x00\\x00\\x00\\x00\\x00\\x00\\x00\\x00\\x00\\x00\\x00\\x43'\n",
    "commandOFF = b'\\xAA\\x04\\x92\\x02\\x00\\x00\\x00\\x00\\x00\\x00\\x00\\x00\\x00\\x00\\x00\\x00\\x00\\x00\\x00\\x00\\x00\\x00\\x00\\x00\\x00\\x42'"
   ]
  },
  {
   "cell_type": "code",
   "execution_count": 48,
   "metadata": {},
   "outputs": [
    {
     "data": {
      "text/plain": [
       "26"
      ]
     },
     "execution_count": 48,
     "metadata": {},
     "output_type": "execute_result"
    }
   ],
   "source": [
    "ser.flushInput()\n",
    "ser.flushOutput()\n",
    "ser.write(commandPC)"
   ]
  },
  {
   "cell_type": "code",
   "execution_count": 49,
   "metadata": {},
   "outputs": [
    {
     "data": {
      "text/plain": [
       "26"
      ]
     },
     "execution_count": 49,
     "metadata": {},
     "output_type": "execute_result"
    }
   ],
   "source": [
    "ser.write(commandON)"
   ]
  },
  {
   "cell_type": "code",
   "execution_count": 50,
   "metadata": {},
   "outputs": [
    {
     "name": "stdout",
     "output_type": "stream",
     "text": [
      "b'\\xaa\\x04\\x91\\x99\\x01\\x95\\x0b\\x00\\x00\\x0c\\x000u\\xb8\\x0b\\xd4\\x02\\x03\\x01\\x90\\x01\\x00\\x00P\\xc3k'\n"
     ]
    }
   ],
   "source": [
    "ser.flushInput()\n",
    "ser.flushOutput()\n",
    "ser.write(readCommand)\n",
    "data = ser.read(26)\n",
    "print(data)"
   ]
  },
  {
   "cell_type": "code",
   "execution_count": 57,
   "metadata": {},
   "outputs": [
    {
     "name": "stdout",
     "output_type": "stream",
     "text": [
      "99\n",
      "01\n",
      "0199\n",
      "0.409\n",
      "153\n",
      "1\n"
     ]
    }
   ],
   "source": [
    "datahex = data.hex()\n",
    "bytelist = [datahex[i:i+2] for i in range(0,len(datahex),2)]\n",
    "current = bytelist[4] + bytelist[3]\n",
    "print(current)\n",
    "print(int(current,16)/1000)"
   ]
  },
  {
   "cell_type": "code",
   "execution_count": null,
   "metadata": {},
   "outputs": [],
   "source": [
    "while True:\n",
    "    time.sleep(1)\n",
    "    ser.write(commandON)\n",
    "    time.sleep(1)\n",
    "    ser.write(commandOFF)"
   ]
  },
  {
   "cell_type": "code",
   "execution_count": 60,
   "metadata": {},
   "outputs": [],
   "source": [
    "ser.close()"
   ]
  },
  {
   "cell_type": "code",
   "execution_count": 9,
   "metadata": {},
   "outputs": [],
   "source": [
    "import pandas as pd\n",
    "import matplotlib.pyplot as plt\n",
    "df = pd.read_csv(\"results.csv\")\n",
    "df = df.sort_values(by=['napieciehigh'])"
   ]
  },
  {
   "cell_type": "code",
   "execution_count": 10,
   "metadata": {},
   "outputs": [
    {
     "data": {
      "image/png": "[encoded data removed]",
      "text/plain": [
       "<Figure size 432x288 with 1 Axes>"
      ]
     },
     "metadata": {
      "needs_background": "light"
     },
     "output_type": "display_data"
    }
   ],
   "source": [
    "df.sort_values(by=['napieciehigh'])\n",
    "plt.plot(df['napieciehigh'], df['prad'])\n",
    "plt.show()"
   ]
  },
  {
   "cell_type": "code",
   "execution_count": 13,
   "metadata": {},
   "outputs": [
    {
     "name": "stdout",
     "output_type": "stream",
     "text": [
      "11_07_2022 20-02-15\n"
     ]
    }
   ],
   "source": [
    "from datetime import date, time, datetime\n",
    "now = datetime.now()\n",
    "date_time = now.strftime(\"%m_%d_%Y %H-%M-%S\")\n",
    "print(date_time)"
   ]
  }
 ],
 "metadata": {
  "kernelspec": {
   "display_name": "Python 3.9.13 64-bit",
   "language": "python",
   "name": "python3"
  },
  "language_info": {
   "codemirror_mode": {
    "name": "ipython",
    "version": 3
   },
   "file_extension": ".py",
   "mimetype": "text/x-python",
   "name": "python",
   "nbconvert_exporter": "python",
   "pygments_lexer": "ipython3",
   "version": "3.9.13"
  },
  "orig_nbformat": 4,
  "vscode": {
   "interpreter": {
    "hash": "e89691e4663d647bc11c8a9859f5cdd56224e794f653bdd6c406cd9780fe241b"
   }
  }
 },
 "nbformat": 4,
 "nbformat_minor": 2
}
